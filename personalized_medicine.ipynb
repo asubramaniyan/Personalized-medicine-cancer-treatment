{
 "cells": [
  {
   "cell_type": "markdown",
   "metadata": {},
   "source": [
    "## Personalized Medicine: Redefining Cancer Treatment\n",
    "\n",
    "#### <B>Source:</B> https://www.kaggle.com/c/msk-redefining-cancer-treatment/data\n",
    "\n",
    "#### <B>Objective:</B>  Classify the gene mutation into one of 9 classes based on clinical evidence from literature\n",
    "\n",
    "#### <B>Machine learning problem:</B>  Multi-class classification problem with categorical and text variables as input. <B>Model metric:</B>  Logloss"
   ]
  },
  {
   "cell_type": "code",
   "execution_count": null,
   "metadata": {},
   "outputs": [],
   "source": []
  }
 ],
 "metadata": {
  "kernelspec": {
   "display_name": "Python 3",
   "language": "python",
   "name": "python3"
  },
  "language_info": {
   "codemirror_mode": {
    "name": "ipython",
    "version": 3
   },
   "file_extension": ".py",
   "mimetype": "text/x-python",
   "name": "python",
   "nbconvert_exporter": "python",
   "pygments_lexer": "ipython3",
   "version": "3.7.4"
  }
 },
 "nbformat": 4,
 "nbformat_minor": 2
}
